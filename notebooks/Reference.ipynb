{
 "cells": [
  {
   "cell_type": "code",
   "execution_count": 12,
   "id": "77373364",
   "metadata": {},
   "outputs": [
    {
     "name": "stdout",
     "output_type": "stream",
     "text": [
      "(5957, 4)\n",
      "<class 'pandas.core.frame.DataFrame'>\n",
      "RangeIndex: 5957 entries, 0 to 5956\n",
      "Data columns (total 4 columns):\n",
      " #   Column      Non-Null Count  Dtype \n",
      "---  ------      --------------  ----- \n",
      " 0   Unnamed: 0  5957 non-null   int64 \n",
      " 1   text        5607 non-null   object\n",
      " 2   title       5957 non-null   object\n",
      " 3   target      5957 non-null   int64 \n",
      "dtypes: int64(2), object(2)\n",
      "memory usage: 186.3+ KB\n",
      "None\n",
      "Unnamed: 0      0\n",
      "text          350\n",
      "title           0\n",
      "target          0\n",
      "dtype: int64\n",
      "0\n"
     ]
    }
   ],
   "source": [
    "import pandas as pd\n",
    "import matplotlib.pyplot as plt\n",
    "import seaborn as sns\n",
    "import os\n",
    "\n",
    "file_path = r\"C:\\Users\\bhara\\mental-health-classifier\\data\\raw\\data_to_be_cleansed.csv\"\n",
    "df = pd.read_csv(file_path)\n",
    "\n",
    "# Check full structure\n",
    "print(df.shape)\n",
    "print(df.info())\n",
    "print(df.isnull().sum())\n",
    "print(df.duplicated().sum())\n",
    "\n",
    "\n",
    "\n"
   ]
  },
  {
   "cell_type": "code",
   "execution_count": 13,
   "id": "8ff68957",
   "metadata": {},
   "outputs": [
    {
     "name": "stderr",
     "output_type": "stream",
     "text": [
      "[nltk_data] Downloading package stopwords to\n",
      "[nltk_data]     C:\\Users\\bhara\\AppData\\Roaming\\nltk_data...\n",
      "[nltk_data]   Package stopwords is already up-to-date!\n"
     ]
    },
    {
     "name": "stdout",
     "output_type": "stream",
     "text": [
      "              precision    recall  f1-score   support\n",
      "\n",
      "           0       0.67      0.14      0.23       236\n",
      "           1       0.26      0.94      0.40       265\n",
      "           2       0.73      0.17      0.27       211\n",
      "           3       0.44      0.18      0.26       229\n",
      "           4       0.73      0.09      0.16       251\n",
      "\n",
      "    accuracy                           0.32      1192\n",
      "   macro avg       0.56      0.30      0.26      1192\n",
      "weighted avg       0.56      0.32      0.27      1192\n",
      "\n",
      "✅ All files saved successfully in '../models/'\n"
     ]
    }
   ],
   "source": [
    "import pandas as pd \n",
    "import re \n",
    "import string \n",
    "import nltk \n",
    "from nltk.corpus import stopwords \n",
    "from sklearn.preprocessing import LabelEncoder\n",
    "from sklearn.model_selection import train_test_split\n",
    "from sklearn.feature_extraction.text import TfidfVectorizer\n",
    "from sklearn.linear_model import LogisticRegression\n",
    "from sklearn.metrics import classification_report\n",
    "import joblib\n",
    "\n",
    "nltk.download('stopwords')\n",
    "stop_words = set(stopwords.words('english'))\n",
    "\n",
    "file_pathv= \"../data/raw/d3984639-b285-4eea-8665-06e109bca630.csv\"\n",
    "df = pd.read_csv(file_path)\n",
    "\n",
    "def clean_text(text):\n",
    "    text = str(text).lower()\n",
    "    text = re.sub(r\"http\\S+|www\\S+|https\\S+\", '', text)\n",
    "    text = re.sub(r'\\@w+|\\#','', text)\n",
    "    text = re.sub(r'[%s]' % re.escape(string.punctuation), '', text)\n",
    "    text = re.sub(r'\\w*\\d\\w*', '', text)\n",
    "    text = ''.join([word for word in text.split() if word not in stop_words])\n",
    "    return text\n",
    "\n",
    "df['cleaned_text'] = df['text'].apply(clean_text)\n",
    "\n",
    "le= LabelEncoder()\n",
    "df['label_encoded'] = le.fit_transform(df['target'])\n",
    "\n",
    "X= df['cleaned_text']\n",
    "y=df['label_encoded']\n",
    "\n",
    "X_train, X_test,y_train,y_test = train_test_split(X,y,test_size=0.2,random_state=42)\n",
    "\n",
    "tfidf = TfidfVectorizer(max_features=5000)\n",
    "X_train_vect =tfidf.fit_transform(X_train)\n",
    "X_test_vect = tfidf.transform(X_test)\n",
    "\n",
    "model = LogisticRegression()\n",
    "model.fit(X_train_vect, y_train)\n",
    "\n",
    "y_pred = model.predict(X_test_vect)\n",
    "print(classification_report(y_test,y_pred,target_names=[str(cls)for cls in le.classes_]))\n",
    "\n",
    "joblib.dump(model,'../models/text_classifier.pkl')\n",
    "joblib.dump(tfidf, '../models/vectorizer.pkl')\n",
    "joblib.dump(le, '../models/label_encoder.pkl')\n",
    "\n",
    "print(\"✅ All files saved successfully in '../models/'\")\n",
    "    "
   ]
  }
 ],
 "metadata": {
  "kernelspec": {
   "display_name": "Python 3",
   "language": "python",
   "name": "python3"
  },
  "language_info": {
   "codemirror_mode": {
    "name": "ipython",
    "version": 3
   },
   "file_extension": ".py",
   "mimetype": "text/x-python",
   "name": "python",
   "nbconvert_exporter": "python",
   "pygments_lexer": "ipython3",
   "version": "3.13.0"
  }
 },
 "nbformat": 4,
 "nbformat_minor": 5
}
